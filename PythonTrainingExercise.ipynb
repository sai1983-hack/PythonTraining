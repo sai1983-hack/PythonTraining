{
  "nbformat": 4,
  "nbformat_minor": 0,
  "metadata": {
    "colab": {
      "provenance": [],
      "authorship_tag": "ABX9TyMYkFf39Ipd4R4BClIoUL1a",
      "include_colab_link": true
    },
    "kernelspec": {
      "name": "python3",
      "display_name": "Python 3"
    },
    "language_info": {
      "name": "python"
    }
  },
  "cells": [
    {
      "cell_type": "markdown",
      "metadata": {
        "id": "view-in-github",
        "colab_type": "text"
      },
      "source": [
        "<a href=\"https://colab.research.google.com/github/sai1983-hack/PythonTraining/blob/main/PythonTrainingExercise.ipynb\" target=\"_parent\"><img src=\"https://colab.research.google.com/assets/colab-badge.svg\" alt=\"Open In Colab\"/></a>"
      ]
    },
    {
      "cell_type": "code",
      "execution_count": null,
      "metadata": {
        "id": "1-DRu_mrySXO"
      },
      "outputs": [],
      "source": []
    },
    {
      "cell_type": "code",
      "source": [
        "# write a program to find the largest number among the numbers\n",
        "\n",
        "def largest(a, b, c):\n",
        "  if a > b and a > c:\n",
        "    return a\n",
        "  elif b > a and b > c:\n",
        "      return b\n",
        "  else:\n",
        "        return c\n",
        "\n",
        "print(largest(10, 20, 30))"
      ],
      "metadata": {
        "colab": {
          "base_uri": "https://localhost:8080/"
        },
        "id": "XE6UJVTRykGh",
        "outputId": "c5ebcde0-6c03-4e23-ab01-12a9a6dda7c3"
      },
      "execution_count": 7,
      "outputs": [
        {
          "output_type": "stream",
          "name": "stdout",
          "text": [
            "30\n"
          ]
        }
      ]
    },
    {
      "cell_type": "code",
      "source": [
        "# write a program to display all prime numbers within an interval\n",
        "\n",
        "def prime_numbers(start, end):\n",
        "  for num in range(start, end + 1):\n",
        "    if num > 1:\n",
        "      for i in range(2, num):\n",
        "        if num % i == 0:\n",
        "          break\n",
        "      else:\n",
        "        print(num)\n",
        "prime_numbers(10, 50)"
      ],
      "metadata": {
        "colab": {
          "base_uri": "https://localhost:8080/"
        },
        "id": "WbMp6wX4zgto",
        "outputId": "08151c5d-248a-44ab-8d08-c5450dc257f0"
      },
      "execution_count": 12,
      "outputs": [
        {
          "output_type": "stream",
          "name": "stdout",
          "text": [
            "11\n",
            "13\n",
            "17\n",
            "19\n",
            "23\n",
            "29\n",
            "31\n",
            "37\n",
            "41\n",
            "43\n",
            "47\n"
          ]
        }
      ]
    },
    {
      "cell_type": "markdown",
      "source": [],
      "metadata": {
        "id": "PcFBvu5AybSg"
      }
    },
    {
      "cell_type": "code",
      "source": [
        "# write a program to swap two numbers without using a temporary variable\n",
        "\n",
        "def swap(a, b):\n",
        "  a = a + b\n",
        "  b = a - b\n",
        "  a = a - b\n",
        "  return a, b\n",
        "\n",
        "print(swap(10, 20))"
      ],
      "metadata": {
        "colab": {
          "base_uri": "https://localhost:8080/"
        },
        "id": "wie3hWE00rUa",
        "outputId": "ba40f196-e759-4f65-d099-2cfeecac35d7"
      },
      "execution_count": 13,
      "outputs": [
        {
          "output_type": "stream",
          "name": "stdout",
          "text": [
            "(20, 10)\n"
          ]
        }
      ]
    },
    {
      "cell_type": "markdown",
      "source": [
        "# **Operators**"
      ],
      "metadata": {
        "id": "ZwTFHUNW4ZIw"
      }
    },
    {
      "cell_type": "code",
      "source": [
        "# 1. Arithmatic Operator\n",
        "\n",
        "def arithmatic(a, b):\n",
        "  add = a + b\n",
        "  sub = a - b\n",
        "  mul = a * b\n",
        "  div = a / b\n",
        "  return add, sub, mul, div\n",
        "\n",
        "print(arithmatic(20,10))"
      ],
      "metadata": {
        "colab": {
          "base_uri": "https://localhost:8080/"
        },
        "id": "jNbVohcD17QA",
        "outputId": "9e20483a-25d8-4b3d-d700-0929f51276dd"
      },
      "execution_count": 16,
      "outputs": [
        {
          "output_type": "stream",
          "name": "stdout",
          "text": [
            "(30, 10, 200, 2.0)\n"
          ]
        }
      ]
    },
    {
      "cell_type": "code",
      "source": [
        "# 2. Relational Operator\n",
        "\n",
        "def relational(a, b):\n",
        "  if a > b:\n",
        "    return \"a is greater than b\"\n",
        "  elif a < b:\n",
        "    return \"a is less than b\"\n",
        "  else:\n",
        "    return \"a is equal to b\"\n",
        "\n",
        "print(relational(10,20))"
      ],
      "metadata": {
        "colab": {
          "base_uri": "https://localhost:8080/"
        },
        "id": "YgfRn3LP4OdF",
        "outputId": "cb028eaf-0667-4909-9bb3-1e939adad6c8"
      },
      "execution_count": 17,
      "outputs": [
        {
          "output_type": "stream",
          "name": "stdout",
          "text": [
            "a is less than b\n"
          ]
        }
      ]
    },
    {
      "cell_type": "code",
      "source": [
        "# 3. Assignment Operator\n",
        "\n",
        "def assignment(a, b):\n",
        "  a += b\n",
        "  b -= a\n",
        "  return\n",
        "\n",
        "\n",
        "print(assignment(10, 20))"
      ],
      "metadata": {
        "colab": {
          "base_uri": "https://localhost:8080/"
        },
        "id": "gl4zRFzQ49n9",
        "outputId": "afa79bed-9c04-4743-d53a-ee5aef9ef4f2"
      },
      "execution_count": 27,
      "outputs": [
        {
          "output_type": "stream",
          "name": "stdout",
          "text": [
            "None\n"
          ]
        }
      ]
    },
    {
      "cell_type": "code",
      "source": [
        "# 4. Logical Operator\n",
        "\n",
        "def logical(a, b):\n",
        "  if a > 10 and b < 20:\n",
        "    return \" a is greater than 10 and b is less than 20\"\n",
        "  else:\n",
        "    return \" a is less than 10 and b is greater than 20\"\n",
        "\n",
        "print(logical(10,20))\n"
      ],
      "metadata": {
        "colab": {
          "base_uri": "https://localhost:8080/"
        },
        "id": "xL_HXUnC57Fz",
        "outputId": "94da60ea-a09e-4824-e1fe-19cfcc00c4b6"
      },
      "execution_count": 31,
      "outputs": [
        {
          "output_type": "stream",
          "name": "stdout",
          "text": [
            " a is less than 10 and b is greater than 20\n"
          ]
        }
      ]
    },
    {
      "cell_type": "code",
      "source": [
        "# 5. Bitwise Operator\n",
        "\n",
        "def bitwise(a, b):\n",
        "  and_op = a & b\n",
        "  or_op = a | b\n",
        "  xor_op = a ^ b\n",
        "  return and_op, or_op, xor_op\n",
        "\n",
        "print(bitwise(10, 20))"
      ],
      "metadata": {
        "colab": {
          "base_uri": "https://localhost:8080/"
        },
        "id": "eHH_sExy7fDZ",
        "outputId": "16a54906-8d14-418d-d8a7-f3b6dc845fa8"
      },
      "execution_count": 32,
      "outputs": [
        {
          "output_type": "stream",
          "name": "stdout",
          "text": [
            "(0, 30, 30)\n"
          ]
        }
      ]
    },
    {
      "cell_type": "code",
      "source": [
        "# 6. Membership Operator\n",
        "\n",
        "def membership(a, b):\n",
        "  if a in b:\n",
        "    return \"a is present in b\"\n",
        "  else:\n",
        "    return \"a is not present in b\"\n",
        "\n",
        "print(membership(10, [10, 20, 30]))"
      ],
      "metadata": {
        "colab": {
          "base_uri": "https://localhost:8080/"
        },
        "id": "udCZuWZzAp3z",
        "outputId": "2a0a158c-bdd7-4b40-d392-0d48e679810a"
      },
      "execution_count": 35,
      "outputs": [
        {
          "output_type": "stream",
          "name": "stdout",
          "text": [
            "a is present in b\n"
          ]
        }
      ]
    },
    {
      "cell_type": "code",
      "source": [
        "# 7. Identity Operator\n",
        "\n",
        "def identity(a, b):\n",
        "  if a is b:\n",
        "    return \"a and b are same\"\n",
        "  else:\n",
        "    return \"a and b are not same\"\n",
        "\n",
        "print(identity(10, 10))"
      ],
      "metadata": {
        "colab": {
          "base_uri": "https://localhost:8080/"
        },
        "id": "YxrPEbOVCEXo",
        "outputId": "24391a67-0dde-4a8d-a596-8b280f999517"
      },
      "execution_count": 36,
      "outputs": [
        {
          "output_type": "stream",
          "name": "stdout",
          "text": [
            "a and b are same\n"
          ]
        }
      ]
    },
    {
      "cell_type": "code",
      "source": [
        "# Code to add and multiply the complex numbers\n",
        "\n",
        "def complex_numbers(a, b):\n",
        "  add = a + b\n",
        "  mul = a * b\n",
        "  return add, mul\n",
        "\n",
        "print(complex_numbers(10 + 20j, 20 + 30j))"
      ],
      "metadata": {
        "colab": {
          "base_uri": "https://localhost:8080/"
        },
        "id": "GFC3PAEkC1wT",
        "outputId": "a25bd4d1-f6fb-48f0-863c-8bcb0eace56f"
      },
      "execution_count": 37,
      "outputs": [
        {
          "output_type": "stream",
          "name": "stdout",
          "text": [
            "((30+50j), (-400+700j))\n"
          ]
        }
      ]
    },
    {
      "cell_type": "code",
      "source": [
        "# Code to print multiplication table of a number\n",
        "\n",
        "def multiplication_table(num):\n",
        "  for i in range(1, 20):\n",
        "    print(num, 'x', i, '=', num * i)\n",
        "\n",
        "multiplication_table(10)\n",
        "\n"
      ],
      "metadata": {
        "colab": {
          "base_uri": "https://localhost:8080/"
        },
        "id": "ZLJ2Ref-EVTt",
        "outputId": "31efba31-9f46-4ba9-eab5-5fe753647224"
      },
      "execution_count": 41,
      "outputs": [
        {
          "output_type": "stream",
          "name": "stdout",
          "text": [
            "10 x 1 = 10\n",
            "10 x 2 = 20\n",
            "10 x 3 = 30\n",
            "10 x 4 = 40\n",
            "10 x 5 = 50\n",
            "10 x 6 = 60\n",
            "10 x 7 = 70\n",
            "10 x 8 = 80\n",
            "10 x 9 = 90\n",
            "10 x 10 = 100\n",
            "10 x 11 = 110\n",
            "10 x 12 = 120\n",
            "10 x 13 = 130\n",
            "10 x 14 = 140\n",
            "10 x 15 = 150\n",
            "10 x 16 = 160\n",
            "10 x 17 = 170\n",
            "10 x 18 = 180\n",
            "10 x 19 = 190\n"
          ]
        }
      ]
    },
    {
      "cell_type": "code",
      "source": [],
      "metadata": {
        "id": "Egw0xtfpFT-6"
      },
      "execution_count": null,
      "outputs": []
    }
  ]
}